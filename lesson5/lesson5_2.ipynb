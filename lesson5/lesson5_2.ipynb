{
 "cells": [
  {
   "cell_type": "markdown",
   "id": "a7c37dd3",
   "metadata": {},
   "source": [
    "###range(10)會傳出串列資料(Sequence data type)"
   ]
  },
  {
   "cell_type": "code",
   "execution_count": 1,
   "id": "a9c60ebe",
   "metadata": {},
   "outputs": [
    {
     "data": {
      "text/plain": [
       "range(0, 5)"
      ]
     },
     "execution_count": 1,
     "metadata": {},
     "output_type": "execute_result"
    }
   ],
   "source": [
    "zero_to_nine:range = range(5)\n",
    "zero_to_nine"
   ]
  },
  {
   "cell_type": "code",
   "execution_count": 2,
   "id": "c3a44199",
   "metadata": {},
   "outputs": [
    {
     "name": "stdout",
     "output_type": "stream",
     "text": [
      "0\n",
      "1\n",
      "2\n",
      "3\n",
      "4\n"
     ]
    }
   ],
   "source": [
    "for ele in range(5):\n",
    "    print(ele)"
   ]
  },
  {
   "cell_type": "code",
   "execution_count": 3,
   "id": "93c79ca8",
   "metadata": {},
   "outputs": [
    {
     "name": "stdout",
     "output_type": "stream",
     "text": [
      "1\n",
      "2\n",
      "3\n",
      "4\n"
     ]
    }
   ],
   "source": [
    "for ele in range(1,5):\n",
    "    print(ele)"
   ]
  },
  {
   "cell_type": "code",
   "execution_count": 4,
   "id": "37385a82",
   "metadata": {},
   "outputs": [
    {
     "name": "stdout",
     "output_type": "stream",
     "text": [
      "1\n",
      "3\n",
      "5\n",
      "7\n",
      "9\n"
     ]
    }
   ],
   "source": [
    "for ele in range(1,11,2):\n",
    "    print(ele)"
   ]
  },
  {
   "cell_type": "markdown",
   "id": "ca2114c0",
   "metadata": {},
   "source": [
    "###如果明確知道執行的次數，請使用for in 迴圈"
   ]
  },
  {
   "cell_type": "code",
   "execution_count": 5,
   "id": "97808876",
   "metadata": {},
   "outputs": [
    {
     "name": "stdout",
     "output_type": "stream",
     "text": [
      "5050\n"
     ]
    }
   ],
   "source": [
    "total = 0\n",
    "for i in range(1,101):\n",
    "    total +=  i\n",
    "print(total)"
   ]
  },
  {
   "cell_type": "markdown",
   "id": "6f97ee6e",
   "metadata": {},
   "source": [
    "###_省略運算子"
   ]
  },
  {
   "cell_type": "code",
   "execution_count": 7,
   "id": "d46aa903",
   "metadata": {},
   "outputs": [
    {
     "name": "stdout",
     "output_type": "stream",
     "text": [
      "很重要\n",
      "很重要\n",
      "很重要\n"
     ]
    }
   ],
   "source": [
    "for _ in range(3):\n",
    "    print(\"很重要\")"
   ]
  },
  {
   "cell_type": "markdown",
   "id": "e4715bbe",
   "metadata": {},
   "source": [
    "### 字串，也是Sequence"
   ]
  },
  {
   "cell_type": "code",
   "execution_count": 1,
   "id": "fdb7f697",
   "metadata": {},
   "outputs": [
    {
     "name": "stdout",
     "output_type": "stream",
     "text": [
      "很\n",
      "重\n",
      "要\n"
     ]
    }
   ],
   "source": [
    "for word in '很重要':\n",
    "    print(word)"
   ]
  }
 ],
 "metadata": {
  "kernelspec": {
   "display_name": "base",
   "language": "python",
   "name": "python3"
  },
  "language_info": {
   "codemirror_mode": {
    "name": "ipython",
    "version": 3
   },
   "file_extension": ".py",
   "mimetype": "text/x-python",
   "name": "python",
   "nbconvert_exporter": "python",
   "pygments_lexer": "ipython3",
   "version": "3.12.7"
  }
 },
 "nbformat": 4,
 "nbformat_minor": 5
}
