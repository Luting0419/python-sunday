{
 "cells": [
  {
   "cell_type": "code",
   "execution_count": 1,
   "id": "b246fdc8",
   "metadata": {},
   "outputs": [
    {
     "name": "stdout",
     "output_type": "stream",
     "text": [
      "天空之所以是藍色的，主要是因為太陽光線在大氣層中發生了 **散射** 現象，這種散射作用在物理學上稱為「**瑞利散射**」（Rayleigh Scattering）。\n",
      "\n",
      "以下是詳細解釋：\n",
      "\n",
      "1.  **太陽光的組成：**\n",
      "    太陽光其實是白色的，包含了所有可見光的顏色，從紅、橙、黃、綠、藍、靛、紫，它們都有不同的波長。紅光的波長最長，紫光的波長最短。\n",
      "\n",
      "2.  **大氣層的組成：**\n",
      "    地球的大氣層主要由氮氣（N₂）和氧氣（O₂）等微小分子組成。這些分子的大小遠小於可見光的波長。\n",
      "\n",
      "3.  **瑞利散射的特性：**\n",
      "    當太陽光穿過大氣層時，光線會與這些微小的氣體分子發生碰撞。瑞利散射的特性是：**波長越短的光，散射得越厲害（被散射的角度和強度越大）**。\n",
      "\n",
      "    *   **藍光和紫光：** 波長最短，它們與大氣分子碰撞後，會被向四面八方散射開來。\n",
      "    *   **紅光和黃光：** 波長較長，它們的散射程度較低，更容易直接穿透大氣層。\n",
      "\n",
      "4.  **天空為什麼是藍色？**\n",
      "    由於藍光和紫光的波長最短，它們在大氣中被散射得最厲害，向四面八方散開。當我們抬頭看天空時，從四面八方進入我們眼睛的大多是被散射開來的藍光，所以天空看起來是藍色的。\n",
      "\n",
      "5.  **為什麼不是紫色？**\n",
      "    雖然紫光的波長比藍光更短，散射也更強，但我們看到的藍天卻不是紫色，原因有幾個：\n",
      "    *   **太陽光中紫光的成分本身就比藍光少。**\n",
      "    *   **我們的眼睛對藍光比對紫光更敏感。**\n",
      "    *   **一些紫光在到達我們眼睛之前會被大氣層上層吸收。**\n",
      "\n",
      "6.  **日出日落時天空為什麼是紅色或橙色？**\n",
      "    當太陽接近地平線時（日出或日落），太陽光需要穿過更厚的大氣層。這時，大部分的藍光和紫光在到達我們眼睛之前都已經被散射開了，只有波長較長的紅光、橙光和黃光能夠直接穿透大氣層到達我們的眼睛，所以我們看到的太陽和天空邊緣呈現紅色、橙色或金黃色。\n",
      "\n",
      "總結來說，天空之所以是藍色的，是因為太陽光中的藍光（及部分紫光）被地球大氣層中的氣體分子更有效地散射開來，使得藍光從四面八方進入我們的眼睛。\n"
     ]
    }
   ],
   "source": [
    "from google import genai\n",
    "from dotenv import load_dotenv\n",
    "import os\n",
    "load_dotenv()\n",
    "\n",
    "\n",
    "client = genai.Client(api_key=os.environ['Gemini_API_KEY'])\n",
    "\n",
    "response = client.models.generate_content(\n",
    "    model=\"gemini-2.5-flash\", contents=\"天空為什麼是藍的\"\n",
    ")\n",
    "print(response.text)"
   ]
  }
 ],
 "metadata": {
  "kernelspec": {
   "display_name": "myenv",
   "language": "python",
   "name": "python3"
  },
  "language_info": {
   "codemirror_mode": {
    "name": "ipython",
    "version": 3
   },
   "file_extension": ".py",
   "mimetype": "text/x-python",
   "name": "python",
   "nbconvert_exporter": "python",
   "pygments_lexer": "ipython3",
   "version": "3.10.16"
  }
 },
 "nbformat": 4,
 "nbformat_minor": 5
}
