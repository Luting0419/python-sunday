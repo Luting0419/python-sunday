{
 "cells": [
  {
   "cell_type": "markdown",
   "id": "3ef663d1",
   "metadata": {},
   "source": [
    "### 這是第三節上課內容"
   ]
  },
  {
   "cell_type": "code",
   "execution_count": 1,
   "id": "8d17bbb9",
   "metadata": {},
   "outputs": [
    {
     "name": "stdout",
     "output_type": "stream",
     "text": [
      "矩形的寬:345.8 高:245.896 面積是85030.84\n"
     ]
    }
   ],
   "source": [
    "width = 345.8\n",
    "height = 245.896\n",
    "#type(width)\n",
    "#type(height)\n",
    "area = width * height\n",
    "#type(area)\n",
    "print(f\"矩形的寬:{width} 高:{height} 面積是{round(area,ndigits=2)}\")"
   ]
  },
  {
   "cell_type": "markdown",
   "id": "98abd758",
   "metadata": {},
   "source": [
    "### 重點是 'input()'"
   ]
  },
  {
   "cell_type": "code",
   "execution_count": 2,
   "id": "4326b255",
   "metadata": {},
   "outputs": [
    {
     "name": "stdout",
     "output_type": "stream",
     "text": [
      "矩行的寬:34.56 高:78.91 面積是2727.13\n"
     ]
    }
   ],
   "source": [
    "width = float(input(\"請輸入矩型的寬\"))\n",
    "height = float(input(\"請輸入矩行的高\"))\n",
    "area = width * height\n",
    "print(f\"矩行的寬:{width} 高:{height} 面積是{round(area,ndigits=2)}\")"
   ]
  }
 ],
 "metadata": {
  "kernelspec": {
   "display_name": "base",
   "language": "python",
   "name": "python3"
  },
  "language_info": {
   "codemirror_mode": {
    "name": "ipython",
    "version": 3
   },
   "file_extension": ".py",
   "mimetype": "text/x-python",
   "name": "python",
   "nbconvert_exporter": "python",
   "pygments_lexer": "ipython3",
   "version": "3.12.7"
  }
 },
 "nbformat": 4,
 "nbformat_minor": 5
}
