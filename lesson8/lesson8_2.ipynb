{
 "cells": [
  {
   "cell_type": "markdown",
   "id": "409977b9",
   "metadata": {},
   "source": [
    "### 一組有關係的資料(dictionary)-map資料類型"
   ]
  },
  {
   "cell_type": "code",
   "execution_count": 2,
   "id": "276cbbac",
   "metadata": {},
   "outputs": [
    {
     "data": {
      "text/plain": [
       "{'name': '盧燕婷', 'chinese': 94, 'english': 85, 'math': 84}"
      ]
     },
     "execution_count": 2,
     "metadata": {},
     "output_type": "execute_result"
    }
   ],
   "source": [
    "student:dict = {'name':\"盧燕婷\",\n",
    "                'chinese':94,\n",
    "                'english': 85,\n",
    "                'math': 84}\n",
    "\n",
    "student"
   ]
  },
  {
   "cell_type": "code",
   "execution_count": 3,
   "id": "d4ff14b9",
   "metadata": {},
   "outputs": [
    {
     "data": {
      "text/plain": [
       "94"
      ]
     },
     "execution_count": 3,
     "metadata": {},
     "output_type": "execute_result"
    }
   ],
   "source": [
    "#取出值\n",
    "student['name']\n",
    "student['chinese']"
   ]
  },
  {
   "cell_type": "code",
   "execution_count": 4,
   "id": "1e1cb163",
   "metadata": {},
   "outputs": [
    {
     "data": {
      "text/plain": [
       "90"
      ]
     },
     "execution_count": 4,
     "metadata": {},
     "output_type": "execute_result"
    }
   ],
   "source": [
    "#改變值\n",
    "student['chinese'] = 90\n",
    "student['chinese']"
   ]
  },
  {
   "cell_type": "code",
   "execution_count": 5,
   "id": "61482a31",
   "metadata": {},
   "outputs": [
    {
     "data": {
      "text/plain": [
       "{'name': '盧燕婷', 'chinese': 90, 'english': 85, 'math': 84, 'history': 87}"
      ]
     },
     "execution_count": 5,
     "metadata": {},
     "output_type": "execute_result"
    }
   ],
   "source": [
    "#新增key\n",
    "student['history'] = 87\n",
    "student"
   ]
  }
 ],
 "metadata": {
  "kernelspec": {
   "display_name": "base",
   "language": "python",
   "name": "python3"
  },
  "language_info": {
   "codemirror_mode": {
    "name": "ipython",
    "version": 3
   },
   "file_extension": ".py",
   "mimetype": "text/x-python",
   "name": "python",
   "nbconvert_exporter": "python",
   "pygments_lexer": "ipython3",
   "version": "3.12.7"
  }
 },
 "nbformat": 4,
 "nbformat_minor": 5
}
