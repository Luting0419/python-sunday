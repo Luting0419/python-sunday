{
 "cells": [
  {
   "cell_type": "markdown",
   "id": "c885b631",
   "metadata": {},
   "source": [
    "### 計算三角形的角度"
   ]
  },
  {
   "cell_type": "code",
   "execution_count": 8,
   "id": "62f6fee8",
   "metadata": {},
   "outputs": [
    {
     "name": "stdout",
     "output_type": "stream",
     "text": [
      "對邊 2.5\n",
      "斜邊 5.0\n",
      "逕度 0.5235987755982989\n",
      "角度 30.0\n"
     ]
    }
   ],
   "source": [
    "import math\n",
    "\n",
    "side=float(input(\"請輸入對邊\"))\n",
    "another_side=float(input(\"請輸入斜邊\"))\n",
    "radians=math.asin(side/another_side)\n",
    "degree=math.degrees(radians)\n",
    "\n",
    "print(\"對邊\",side)\n",
    "print(\"斜邊\",another_side)\n",
    "print(\"逕度\",radians)\n",
    "print(\"角度\",round(degree,ndigits=2))"
   ]
  },
  {
   "cell_type": "markdown",
   "id": "56415918",
   "metadata": {},
   "source": [
    "### tuple"
   ]
  },
  {
   "cell_type": "code",
   "execution_count": 1,
   "id": "6fc9ccca",
   "metadata": {},
   "outputs": [
    {
     "data": {
      "text/plain": [
       "(67, 98, 23)"
      ]
     },
     "execution_count": 1,
     "metadata": {},
     "output_type": "execute_result"
    }
   ],
   "source": [
    "67,98,23"
   ]
  },
  {
   "cell_type": "markdown",
   "id": "01841e42",
   "metadata": {},
   "source": [
    "### 大學的統計,標準差"
   ]
  },
  {
   "cell_type": "code",
   "execution_count": 2,
   "id": "9baf2400",
   "metadata": {},
   "outputs": [
    {
     "name": "stdout",
     "output_type": "stream",
     "text": [
      "30.0 40.0 50.0\n",
      "平均:40.00\n",
      "標準差:10.00\n"
     ]
    }
   ],
   "source": [
    "import statistics\n",
    "\n",
    "a=float(input(\"請輸入第一個數\"))\n",
    "b=float(input(\"請輸入第二個數\"))\n",
    "c=float(input(\"請輸入第三個數\"))\n",
    "average=statistics.mean((a,b,c))\n",
    "std=statistics.stdev((a,b,c))\n",
    "print(a,b,c)\n",
    "print(f\"平均:{average:.2f}\")\n",
    "print(f\"標準差:{std:.2f}\")"
   ]
  }
 ],
 "metadata": {
  "kernelspec": {
   "display_name": "base",
   "language": "python",
   "name": "python3"
  },
  "language_info": {
   "codemirror_mode": {
    "name": "ipython",
    "version": 3
   },
   "file_extension": ".py",
   "mimetype": "text/x-python",
   "name": "python",
   "nbconvert_exporter": "python",
   "pygments_lexer": "ipython3",
   "version": "3.12.7"
  }
 },
 "nbformat": 4,
 "nbformat_minor": 5
}
