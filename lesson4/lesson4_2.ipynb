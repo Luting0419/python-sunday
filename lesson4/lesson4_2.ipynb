{
 "cells": [
  {
   "cell_type": "markdown",
   "id": "11249a95",
   "metadata": {},
   "source": [
    "### if->流程控制"
   ]
  },
  {
   "cell_type": "markdown",
   "id": "bb569ec9",
   "metadata": {},
   "source": [
    "**單項選擇**"
   ]
  },
  {
   "cell_type": "code",
   "execution_count": 10,
   "id": "eb2f3c74",
   "metadata": {},
   "outputs": [
    {
     "name": "stdout",
     "output_type": "stream",
     "text": [
      "這是單項選擇\n",
      "這是True的程式區塊\n"
     ]
    }
   ],
   "source": [
    "if True:\n",
    "    print(\"這是單項選擇\")\n",
    "    print(\"這是True的程式區塊\")"
   ]
  },
  {
   "cell_type": "markdown",
   "id": "f4b33b1d",
   "metadata": {},
   "source": [
    "**雙項選擇**"
   ]
  },
  {
   "cell_type": "code",
   "execution_count": 13,
   "id": "645bd267",
   "metadata": {},
   "outputs": [
    {
     "name": "stdout",
     "output_type": "stream",
     "text": [
      "這是雙項選擇\n",
      "這是False的程式區塊\n"
     ]
    }
   ],
   "source": [
    "if False:\n",
    "    print(\"這是雙項選擇\")\n",
    "    print(\"這是True的程式區塊\")\n",
    "else:\n",
    "    print(\"這是雙項選擇\")\n",
    "    print(\"這是False的程式區塊\")"
   ]
  },
  {
   "cell_type": "code",
   "execution_count": 16,
   "id": "a700d8c3",
   "metadata": {},
   "outputs": [
    {
     "name": "stdout",
     "output_type": "stream",
     "text": [
      "成年\n"
     ]
    }
   ],
   "source": [
    "age=int(input(\"請輸入age\"))\n",
    "if age<18:\n",
    "    print(\"未成年\")\n",
    "else:\n",
    "    print(\"成年\")"
   ]
  },
  {
   "cell_type": "markdown",
   "id": "69425cc5",
   "metadata": {},
   "source": [
    "- 學生總分為300\n",
    "- 有些學生可以加分5%\n",
    "- 如果加分超過300,就以300分為準"
   ]
  },
  {
   "cell_type": "code",
   "execution_count": 20,
   "id": "b1c3a376",
   "metadata": {},
   "outputs": [
    {
     "name": "stdout",
     "output_type": "stream",
     "text": [
      "學生分數是:300\n"
     ]
    }
   ],
   "source": [
    "scores=int(input(\"請輸入學生分數(最高300分):\"))\n",
    "is_add=input(\"學生是否學生是否ㄈ學生是否符合加分條件?(y,n)\")\n",
    "if(is_add == \"y\"):\n",
    "    scores*=1.05\n",
    "    if scores>300:\n",
    "        scores=300\n",
    "\n",
    "print(f\"學生分數是:{round(scores)}\")"
   ]
  },
  {
   "cell_type": "markdown",
   "id": "e57f0a5d",
   "metadata": {},
   "source": [
    "** 處理raise Exception **\n",
    "** try: except:處理錯誤 **"
   ]
  },
  {
   "cell_type": "code",
   "execution_count": 21,
   "id": "c6092caf",
   "metadata": {},
   "outputs": [
    {
     "name": "stdout",
     "output_type": "stream",
     "text": [
      "發生錯誤\n"
     ]
    }
   ],
   "source": [
    "try:\n",
    "    25/0\n",
    "except:\n",
    "    print(\"發生錯誤\")"
   ]
  },
  {
   "cell_type": "code",
   "execution_count": 23,
   "id": "36cc2426",
   "metadata": {},
   "outputs": [
    {
     "name": "stdout",
     "output_type": "stream",
     "text": [
      "25.0\n",
      "程式結束\n"
     ]
    }
   ],
   "source": [
    "divitionBy = 1\n",
    "try:\n",
    "    print(25/divitionBy)\n",
    "except:\n",
    "    print(\"發生錯誤\")\n",
    "\n",
    "print(\"程式結束\")"
   ]
  },
  {
   "cell_type": "markdown",
   "id": "f2992c04",
   "metadata": {},
   "source": [
    "**多個except**"
   ]
  },
  {
   "cell_type": "code",
   "execution_count": 25,
   "id": "394ae5b6",
   "metadata": {},
   "outputs": [
    {
     "name": "stdout",
     "output_type": "stream",
     "text": [
      "發生不知名錯誤\n",
      "程式結束\n"
     ]
    }
   ],
   "source": [
    "divitionBy = 0\n",
    "try:\n",
    "    print(30/\"10\")\n",
    "    print(25/divitionBy)\n",
    "except ZeroDivisionError:\n",
    "    print(\"除數不可以是0\")\n",
    "except:\n",
    "    print(\"發生不知名錯誤\")\n",
    "\n",
    "print(\"程式結束\")"
   ]
  },
  {
   "cell_type": "code",
   "execution_count": 27,
   "id": "b2b60c6e",
   "metadata": {},
   "outputs": [
    {
     "name": "stdout",
     "output_type": "stream",
     "text": [
      "發生不知名錯誤\n",
      "應用程式結束\n"
     ]
    }
   ],
   "source": [
    "try:\n",
    "    scores=int(input(\"請輸入學生分數(最高300分):\"))\n",
    "    is_add=input(\"學生是否學生是否ㄈ學生是否符合加分條件?(y,n)\")\n",
    "    if(is_add == \"y\"):\n",
    "        scores*=1.05\n",
    "        if scores>300:\n",
    "            scores=300\n",
    "\n",
    "    print(f\"學生分數是:{round(scores)}\")\n",
    "except:\n",
    "    print(\"發生不知名錯誤\")\n",
    "print(\"應用程式結束\")"
   ]
  },
  {
   "cell_type": "markdown",
   "id": "39431c20",
   "metadata": {},
   "source": [
    "### 輸入一個整數，判斷他是偶數還是奇數"
   ]
  },
  {
   "cell_type": "markdown",
   "id": "4ad8590b",
   "metadata": {},
   "source": [
    "- 讓使用著輸入一個數值\n",
    "- 輸出判斷是奇數還是偶數\n",
    "- 如果使用著輸入a，無法轉換為數值，請輸出錯誤訊息"
   ]
  },
  {
   "cell_type": "code",
   "execution_count": 32,
   "id": "9c969e01",
   "metadata": {},
   "outputs": [
    {
     "name": "stdout",
     "output_type": "stream",
     "text": [
      "奇數\n",
      "應用程式結束\n"
     ]
    }
   ],
   "source": [
    "try:\n",
    "    n =int(input(\"請輸入一個數值:\"))\n",
    "    if n % 2 == 0 :\n",
    "        print(\"偶數\")\n",
    "    else:\n",
    "        print(\"奇數\")\n",
    "except:\n",
    "    print(\"發生不知名錯誤\")\n",
    "print(\"應用程式結束\")"
   ]
  }
 ],
 "metadata": {
  "kernelspec": {
   "display_name": "base",
   "language": "python",
   "name": "python3"
  },
  "language_info": {
   "codemirror_mode": {
    "name": "ipython",
    "version": 3
   },
   "file_extension": ".py",
   "mimetype": "text/x-python",
   "name": "python",
   "nbconvert_exporter": "python",
   "pygments_lexer": "ipython3",
   "version": "3.12.7"
  }
 },
 "nbformat": 4,
 "nbformat_minor": 5
}
